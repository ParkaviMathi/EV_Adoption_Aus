{
 "cells": [
  {
   "cell_type": "code",
   "execution_count": 2,
   "metadata": {},
   "outputs": [],
   "source": [
    "# from pyspark import SparkContext\n",
    "from pyspark.sql import SparkSession\n"
   ]
  },
  {
   "cell_type": "markdown",
   "metadata": {},
   "source": [
    "TODO:\n",
    "- To a 'describe' on the dataframe to describe the schema\n",
    "- Give a description analysis of each column value\n",
    "- Define the schema type for the dataframe"
   ]
  },
  {
   "cell_type": "code",
   "execution_count": 2,
   "metadata": {},
   "outputs": [
    {
     "name": "stderr",
     "output_type": "stream",
     "text": [
      "your 131072x1 screen size is bogus. expect trouble\n",
      "24/06/07 15:22:48 WARN Utils: Your hostname, DevanshNZ resolves to a loopback address: 127.0.1.1; using 172.17.62.21 instead (on interface eth0)\n",
      "24/06/07 15:22:48 WARN Utils: Set SPARK_LOCAL_IP if you need to bind to another address\n",
      "Setting default log level to \"WARN\".\n",
      "To adjust logging level use sc.setLogLevel(newLevel). For SparkR, use setLogLevel(newLevel).\n",
      "24/06/07 15:22:50 WARN NativeCodeLoader: Unable to load native-hadoop library for your platform... using builtin-java classes where applicable\n"
     ]
    }
   ],
   "source": [
    "# sc=SparkContext.getOrCreate()\n",
    "spark = SparkSession.builder.appName(\"EDA Vehicle\").getOrCreate()"
   ]
  },
  {
   "cell_type": "code",
   "execution_count": 5,
   "metadata": {},
   "outputs": [],
   "source": [
    "vehicle_spec_path = \"../local_datasets/aaa_data/vehicle_spec_info.csv\"\n",
    "\n",
    "# Load vehicle spec dataframe:\n",
    "df = spark.read.csv(vehicle_spec_path, header=True, inferSchema=True)"
   ]
  },
  {
   "cell_type": "code",
   "execution_count": 6,
   "metadata": {},
   "outputs": [
    {
     "name": "stdout",
     "output_type": "stream",
     "text": [
      "+-------------------+------------+--------------------+--------------------------+----------+------------------------------+-------------------+-------------------+\n",
      "|              Model|Vehicle Type|     Variant Details|Fast Charge Time (Minutes)|Range (km)|Energy Consumption (kWh/100km)|ANCAP Safety Rating|Listed Price ($AUD)|\n",
      "+-------------------+------------+--------------------+--------------------------+----------+------------------------------+-------------------+-------------------+\n",
      "|        Audi e-tron|   Large SUV|2022 Audi e-tron ...|      85 mins (5%-80% c...|       459|                          23.2|    [object Object]|               NULL|\n",
      "|     Audi e-tron GT|   Large Car|2024 Audi e-tron ...|      23 mins (5%-80% c...|       540|                          19.2|    [object Object]|             182400|\n",
      "|   BMW 5 Series BEV|   Large Car|2024 BMW i5 eDriv...|      30 mins (10%-80% ...|       550|                          16.5|    [object Object]|             155900|\n",
      "|             BMW i4|  Medium Car|2024 BMW i4 eDriv...|      31 mins (10%-80% ...|       520|                          22.2|    [object Object]|             102900|\n",
      "|             BMW i7|   Large Car|2024 BMW i7 xDriv...|      34 mins (10%-80% ...|       625|                          22.2|    [object Object]|             306900|\n",
      "|             BMW iX|   Large SUV|2024 BMW iX xDriv...|      31 mins (10%-80% ...|       420|                          22.5|    [object Object]|             136900|\n",
      "|            BMW iX1|   Small SUV|2024 BMW iX1 xDri...|      29 mins (10%-80% ...|       400|                          18.3|    [object Object]|              84900|\n",
      "|            BMW iX3|  Medium SUV|2024 BMW iX3 M Sp...|      450 mins (0%-100%...|       440|                          21.6|    [object Object]|              89100|\n",
      "|         BYD Atto 3|  Medium SUV|2024 BYD ATTO 3 S...|                      NULL|       345|                          16.0|    [object Object]|              48011|\n",
      "|        BYD Dolphin|   Small Car|2024 BYD Dolphin ...|                      NULL|       410|                          21.6|    [object Object]|              38890|\n",
      "|           BYD Seal|  Medium Car|2024 BYD Seal Dyn...|                      NULL|       510|                          13.8|    [object Object]|              49888|\n",
      "|         CUPRA Born|   Small Car|2024 CUPRA Born A...|                      NULL|       511|                          17.0|    [object Object]|              59990|\n",
      "|          Fiat 500e|   Small Car|2023 Fiat 500e La...|      35 mins (0%-80% c...|       311|                          14.4|    [object Object]|              52500|\n",
      "|Ford Mustang Mach-E|   Large SUV|2023 Ford Mustang...|                      NULL|       470|                          17.8|    [object Object]|              72990|\n",
      "|            GWM Ora|   Small Car|2024 GWM Ora Stan...|      41 mins (10%-80% ...|       310|                          16.7|    [object Object]|              39990|\n",
      "|    Genesis G80 BEV|   Large Car|2023 Genesis G80 ...|      22 mins (10%-80% ...|       520|                          19.1|    [object Object]|               NULL|\n",
      "|       Genesis GV60|   Small SUV|2023 Genesis GV60...|      18 mins (10%-80% ...|       470|                          18.8|    [object Object]|             106375|\n",
      "|   Genesis GV70 BEV|  Medium SUV|2023 Genesis GV70...|      18 mins (10%-80% ...|       445|                          19.9|    [object Object]|             126475|\n",
      "|    Hyundai Ioniq 5|  Medium SUV|2024 Hyundai IONI...|      18 mins (10%-80% ...|       451|                          17.9|    [object Object]|              65000|\n",
      "|    Hyundai Ioniq 6|  Medium Car|2024 Hyundai IONI...|      18 mins (10%-80% ...|       614|                          14.3|    [object Object]|              65500|\n",
      "+-------------------+------------+--------------------+--------------------------+----------+------------------------------+-------------------+-------------------+\n",
      "only showing top 20 rows\n",
      "\n"
     ]
    }
   ],
   "source": [
    "df.show()"
   ]
  },
  {
   "cell_type": "markdown",
   "metadata": {},
   "source": [
    "- Looking initially, there is missing info for fast charge time.\n",
    "    - Not only is there missing info, but the charge ranges are different, need to find way to normalise.\n",
    "- The ANCAP Safety Rating was not imported, might have to remove or web scrape and update.\n",
    "- Soem Listed prices are missing from the table. Will need to fill the NULL values."
   ]
  },
  {
   "cell_type": "code",
   "execution_count": 14,
   "metadata": {},
   "outputs": [
    {
     "data": {
      "text/plain": [
       "[Row(Variant Details='2022 Audi e-tron 55 Auto quattro MY23'),\n",
       " Row(Variant Details='2023 Genesis G80 Auto AWD MY23'),\n",
       " Row(Variant Details='2023 Hyundai Kona Electric Elite Auto MY23'),\n",
       " Row(Variant Details='2023 Mercedes-Benz EQC EQC400 Auto 4MATIC')]"
      ]
     },
     "execution_count": 14,
     "metadata": {},
     "output_type": "execute_result"
    }
   ],
   "source": [
    "# ** Replace NULL values in price column **\n",
    "\"\"\"\n",
    "NULL values will be filled with prices found on carsales.com.au 07/06/2024\n",
    "\"\"\"\n",
    "\n",
    "null_variants = df.filter( df['Listed Price ($AUD)'].isNull() ).select(\"Variant Details\")\n",
    "null_variants = null_variants.rdd.flatMap(lambda x: x).collect()\n",
    "null_variants"
   ]
  },
  {
   "cell_type": "code",
   "execution_count": 11,
   "metadata": {},
   "outputs": [
    {
     "data": {
      "text/plain": [
       "NoneType"
      ]
     },
     "execution_count": 11,
     "metadata": {},
     "output_type": "execute_result"
    }
   ],
   "source": [
    "# Prices found:\n",
    "\"\"\"\n",
    "2022 Audi e-tron 55 Auto quattro MY23  |  $119,999\n",
    "2023 Genesis G80 Auto AWD MY23  |  $74,690\n",
    "2023 Hyundai Kona Electric Elite Auto MY23  |  $54,500\n",
    "2023 Mercedes-Benz EQC EQC400 Auto 4MATIC  |  $92,831\n",
    "\"\"\""
   ]
  }
 ],
 "metadata": {
  "kernelspec": {
   "display_name": ".venv",
   "language": "python",
   "name": "python3"
  },
  "language_info": {
   "codemirror_mode": {
    "name": "ipython",
    "version": 3
   },
   "file_extension": ".py",
   "mimetype": "text/x-python",
   "name": "python",
   "nbconvert_exporter": "python",
   "pygments_lexer": "ipython3",
   "version": "3.10.12"
  }
 },
 "nbformat": 4,
 "nbformat_minor": 2
}
