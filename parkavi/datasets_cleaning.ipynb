{
 "cells": [
  {
   "cell_type": "code",
   "execution_count": 1,
   "metadata": {},
   "outputs": [],
   "source": [
    "# Import necessary libraries\n",
    "from pyspark.sql import SparkSession\n",
    "from pyspark.sql.functions import regexp_replace, col\n",
    "import plotly.express as px\n",
    "import pandas as pd\n",
    "import plotly.graph_objects as go\n",
    "from plotly.subplots import make_subplots\n",
    "import matplotlib.cm as cm\n",
    "import matplotlib.colors as mcolors\n",
    "import numpy as np\n",
    "from sklearn.linear_model import LinearRegression"
   ]
  },
  {
   "cell_type": "markdown",
   "metadata": {},
   "source": [
    "### Population Dataset"
   ]
  },
  {
   "cell_type": "code",
   "execution_count": 2,
   "metadata": {},
   "outputs": [
    {
     "name": "stderr",
     "output_type": "stream",
     "text": [
      "your 131072x1 screen size is bogus. expect trouble\n",
      "24/06/17 09:40:42 WARN Utils: Your hostname, DevanshNZ resolves to a loopback address: 127.0.1.1; using 10.255.255.254 instead (on interface lo)\n",
      "24/06/17 09:40:42 WARN Utils: Set SPARK_LOCAL_IP if you need to bind to another address\n",
      "Setting default log level to \"WARN\".\n",
      "To adjust logging level use sc.setLogLevel(newLevel). For SparkR, use setLogLevel(newLevel).\n",
      "24/06/17 09:40:42 WARN NativeCodeLoader: Unable to load native-hadoop library for your platform... using builtin-java classes where applicable\n"
     ]
    },
    {
     "name": "stdout",
     "output_type": "stream",
     "text": [
      "+--------+---------------------+------+------+------+------+------+------+------+------+------+------+------+------+------+------+------+------+------+------+------+------+------+------+------+\n",
      "|LGA code|Local Government Area|  2001|  2002|  2003|  2004|  2005|  2006|  2007|  2008|  2009|  2010|  2011|  2012|  2013|  2014|  2015|  2016|  2017|  2018|  2019|  2020|  2021|  2022|  2023|\n",
      "+--------+---------------------+------+------+------+------+------+------+------+------+------+------+------+------+------+------+------+------+------+------+------+------+------+------+------+\n",
      "|   10050|               Albury| 45265| 45816| 46180| 46505| 47004| 47566| 48140| 48518| 48814| 49222| 49451| 49785| 50338| 50990| 51486| 52171| 53056| 53922| 54657| 55466| 56067| 56665| 57517|\n",
      "|   10180|             Armidale| 27906| 27774| 27610| 27410| 27350| 27377| 27468| 27788| 28156| 28409| 28573| 28748| 28895| 29015| 29160| 29310| 29519| 29631| 29701| 29600| 29332| 29361| 29594|\n",
      "|   10250|              Ballina| 37856| 38417| 38870| 39120| 39305| 39537| 39824| 40020| 40295| 40571| 40747| 41118| 41510| 41881| 42336| 42993| 43652| 44385| 44997| 45663| 46196| 46849| 47279|\n",
      "|   10300|            Balranald|  2751|  2703|  2661|  2596|  2545|  2507|  2473|  2433|  2404|  2381|  2353|  2363|  2381|  2376|  2364|  2330|  2338|  2308|  2287|  2257|  2208|  2210|  2202|\n",
      "|   10470|             Bathurst| 35504| 35831| 36084| 36245| 36547| 36916| 37272| 37904| 38848| 39484| 39960| 40301| 40727| 41157| 41694| 42244| 42583| 42882| 43207| 43444| 43674| 44110| 44612|\n",
      "|   10500|        Bayside (NSW)|129075|129377|130598|131144|132112|133205|135831|139556|142527|144295|144985|148028|151309|154980|159222|164534|168779|171377|173913|176184|176229|177992|182987|\n",
      "|   10550|          Bega Valley| 30425| 30790| 31056| 31406| 31608| 31829| 32183| 32367| 32620| 32962| 33128| 33288| 33430| 33562| 33713| 33941| 34287| 34674| 35026| 35428| 35770| 35985| 36279|\n",
      "|   10600|            Bellingen| 12634| 12673| 12705| 12672| 12682| 12716| 12773| 12787| 12837| 12891| 12923| 12909| 12920| 12929| 12936| 12951| 12976| 13006| 13046| 13152| 13203| 13261| 13231|\n",
      "|   10650|             Berrigan|  8075|  8058|  8035|  8014|  8076|  8160|  8204|  8237|  8282|  8291|  8297|  8365|  8436|  8519|  8568|  8609|  8638|  8645|  8649|  8653|  8615|  8652|  8643|\n",
      "|   10750|            Blacktown|263103|267048|268806|271434|275206|278894|284925|292002|299450|306601|312346|317735|324797|331825|339449|348030|359591|369384|380186|391911|399925|410944|426202|\n",
      "|   10800|                Bland|  6603|  6529|  6453|  6360|  6263|  6212|  6178|  6113|  6101|  6049|  6021|  6034|  6028|  6034|  6027|  6024|  5936|  5849|  5755|  5649|  5544|  5493|  5464|\n",
      "|   10850|              Blayney|  6478|  6545|  6562|  6598|  6649|  6741|  6821|  6900|  7041|  7143|  7217|  7274|  7303|  7322|  7322|  7343|  7375|  7406|  7450|  7484|  7511|  7590|  7644|\n",
      "|   10900|       Blue Mountains| 76528| 76656| 76651| 76436| 75971| 75600| 76198| 77102| 77869| 78227| 78553| 78532| 78705| 78867| 78889| 78835| 78989| 79107| 79077| 79031| 78372| 77913| 78446|\n",
      "|   10950|                Bogan|  3156|  3105|  3052|  3027|  2964|  2939|  2972|  2992|  2999|  3013|  3009|  2982|  2926|  2894|  2846|  2764|  2708|  2648|  2602|  2514|  2480|  2454|  2420|\n",
      "|   11150|               Bourke|  3919|  3781|  3642|  3494|  3349|  3185|  3073|  3046|  3013|  3033|  3053|  2998|  2903|  2870|  2801|  2762|  2695|  2600|  2534|  2483|  2416|  2348|  2365|\n",
      "|   11200|           Brewarrina|  2148|  2121|  2078|  2039|  2029|  2004|  1961|  1944|  1900|  1878|  1874|  1821|  1830|  1786|  1762|  1710|  1683|  1637|  1591|  1525|  1487|  1431|  1411|\n",
      "|   11250|          Broken Hill| 20929| 20681| 20403| 20111| 19915| 19753| 19708| 19604| 19421| 19267| 19151| 18985| 18802| 18627| 18360| 18114| 17994| 17914| 17801| 17718| 17662| 17567| 17624|\n",
      "|   11300|              Burwood| 30393| 30682| 30980| 31370| 31696| 32199| 32893| 33343| 33708| 33835| 34176| 35095| 36145| 37200| 37822| 38536| 39275| 39773| 40333| 40670| 40440| 40850| 42498|\n",
      "|   11350|                Byron| 29453| 29697| 29952| 30141| 30130| 30125| 30174| 30347| 30537| 30664| 30712| 31210| 31756| 32263| 32803| 33399| 33944| 34512| 35054| 35715| 36106| 36514| 37126|\n",
      "|   11400|              Cabonne| 12447| 12478| 12482| 12506| 12543| 12634| 12706| 12799| 12929| 13071| 13211| 13322| 13473| 13506| 13511| 13577| 13683| 13729| 13773| 13814| 13767| 13843| 13880|\n",
      "+--------+---------------------+------+------+------+------+------+------+------+------+------+------+------+------+------+------+------+------+------+------+------+------+------+------+------+\n",
      "only showing top 20 rows\n",
      "\n",
      "root\n",
      " |-- LGA code: integer (nullable = true)\n",
      " |-- Local Government Area: string (nullable = true)\n",
      " |-- 2001: integer (nullable = true)\n",
      " |-- 2002: integer (nullable = true)\n",
      " |-- 2003: integer (nullable = true)\n",
      " |-- 2004: integer (nullable = true)\n",
      " |-- 2005: integer (nullable = true)\n",
      " |-- 2006: integer (nullable = true)\n",
      " |-- 2007: integer (nullable = true)\n",
      " |-- 2008: integer (nullable = true)\n",
      " |-- 2009: integer (nullable = true)\n",
      " |-- 2010: integer (nullable = true)\n",
      " |-- 2011: integer (nullable = true)\n",
      " |-- 2012: integer (nullable = true)\n",
      " |-- 2013: integer (nullable = true)\n",
      " |-- 2014: integer (nullable = true)\n",
      " |-- 2015: integer (nullable = true)\n",
      " |-- 2016: integer (nullable = true)\n",
      " |-- 2017: integer (nullable = true)\n",
      " |-- 2018: integer (nullable = true)\n",
      " |-- 2019: integer (nullable = true)\n",
      " |-- 2020: integer (nullable = true)\n",
      " |-- 2021: integer (nullable = true)\n",
      " |-- 2022: integer (nullable = true)\n",
      " |-- 2023: integer (nullable = true)\n",
      "\n"
     ]
    }
   ],
   "source": [
    "# Initialize Spark session \n",
    "spark = SparkSession.builder.appName(\"Databricks CSV Example\").getOrCreate()\n",
    "\n",
    "# Define the path to the CSV file in DBFS\n",
    "file_path = \"../Resources/population_census.csv\"  \n",
    "\n",
    "# Load the CSV file into a DataFrame\n",
    "population_df = spark.read.csv(file_path, header=True, inferSchema=True)\n",
    "\n",
    "# Show the DataFrame content\n",
    "population_df.show()\n",
    "\n",
    "# Print the DataFrame schema\n",
    "population_df.printSchema()\n"
   ]
  },
  {
   "cell_type": "code",
   "execution_count": 3,
   "metadata": {},
   "outputs": [],
   "source": [
    "#Filter dataset for specific columns\n",
    "pop_df=population_df.select(\"LGA code\", \"Local Government Area\", \"2021\", \"2022\", \"2023\")"
   ]
  },
  {
   "cell_type": "code",
   "execution_count": 4,
   "metadata": {},
   "outputs": [],
   "source": [
    "#Remove rows with Nan values\n",
    "pop_df= pop_df.dropna()"
   ]
  },
  {
   "cell_type": "code",
   "execution_count": 5,
   "metadata": {},
   "outputs": [
    {
     "name": "stdout",
     "output_type": "stream",
     "text": [
      "+--------+---------------------+------------------+------------------+------------------+\n",
      "|LGA code|Local Government Area|Population in 2021|Population in 2022|Population in 2023|\n",
      "+--------+---------------------+------------------+------------------+------------------+\n",
      "|   10050|               Albury|             56067|             56665|             57517|\n",
      "|   10180|             Armidale|             29332|             29361|             29594|\n",
      "|   10250|              Ballina|             46196|             46849|             47279|\n",
      "|   10300|            Balranald|              2208|              2210|              2202|\n",
      "|   10470|             Bathurst|             43674|             44110|             44612|\n",
      "|   10500|        Bayside (NSW)|            176229|            177992|            182987|\n",
      "|   10550|          Bega Valley|             35770|             35985|             36279|\n",
      "|   10600|            Bellingen|             13203|             13261|             13231|\n",
      "|   10650|             Berrigan|              8615|              8652|              8643|\n",
      "|   10750|            Blacktown|            399925|            410944|            426202|\n",
      "|   10800|                Bland|              5544|              5493|              5464|\n",
      "|   10850|              Blayney|              7511|              7590|              7644|\n",
      "|   10900|       Blue Mountains|             78372|             77913|             78446|\n",
      "|   10950|                Bogan|              2480|              2454|              2420|\n",
      "|   11150|               Bourke|              2416|              2348|              2365|\n",
      "|   11200|           Brewarrina|              1487|              1431|              1411|\n",
      "|   11250|          Broken Hill|             17662|             17567|             17624|\n",
      "|   11300|              Burwood|             40440|             40850|             42498|\n",
      "|   11350|                Byron|             36106|             36514|             37126|\n",
      "|   11400|              Cabonne|             13767|             13843|             13880|\n",
      "+--------+---------------------+------------------+------------------+------------------+\n",
      "only showing top 20 rows\n",
      "\n"
     ]
    }
   ],
   "source": [
    "# Dictionary of old and new column names\n",
    "rename_dict = {\n",
    "    \"2021\": \"Population in 2021\",\n",
    "    \"2022\": \"Population in 2022\",\n",
    "    \"2023\": \"Population in 2023\"\n",
    "}\n",
    "\n",
    "# Initialize Renamed_Income_df with the original DataFrame\n",
    "filterd_pop_df = pop_df\n",
    "\n",
    "# Apply renaming using a loop\n",
    "for old_name, new_name in rename_dict.items():\n",
    "    filterd_pop_df = filterd_pop_df.withColumnRenamed(old_name, new_name)\n",
    "\n",
    "# Show the final DataFrame with all renamed columns\n",
    "filterd_pop_df.show()"
   ]
  },
  {
   "cell_type": "markdown",
   "metadata": {},
   "source": [
    "### Income Dataset"
   ]
  },
  {
   "cell_type": "code",
   "execution_count": 6,
   "metadata": {},
   "outputs": [
    {
     "name": "stdout",
     "output_type": "stream",
     "text": [
      "+---------------+-----------------+-----------------+---------------------+-------------------+--------+--------+-------+-------+-------+-------+----------------+-------------------+-------------------+--------------------+---------------+---------------+--------------+----------------+\n",
      "|            LGA|         LGA NAME|Number of Earners|Median age of earners|                Sum|  Median|    Mean|P80/P20|P80/P50|P20/P50|P10/P50|Gini coefficient|Income share:Top 1%|Income share:Top 5%|Income share:Top 10%|Lowest Quartile|Second Quartile|Third Quartile|Highest Quartile|\n",
      "+---------------+-----------------+-----------------+---------------------+-------------------+--------+--------+-------+-------+-------+-------+----------------+-------------------+-------------------+--------------------+---------------+---------------+--------------+----------------+\n",
      "|     Australia |             NULL|      14,760,008 |                  42 | 1,040,901,408,310 | 54,890 | 70,522 |  5.00 |  1.88 |  0.38 |  0.14 |          0.483 |               9.8 |              22.5 |               33.4 |          25.0 |          25.0 |         25.0 |           25.0 |\n",
      "|New South Wales|             NULL|       4,603,736 |                  42 |   341,107,484,589 | 55,854 | 74,094 |  5.00 |  1.90 |  0.38 |  0.15 |          0.497 |              11.2 |              24.3 |               35.2 |          24.6 |          24.6 |         24.7 |           26.1 |\n",
      "|          10050|           Albury|          31,816 |                  43 |     1,985,173,923 | 53,392 | 62,395 |  4.38 |  1.72 |  0.39 |  0.15 |          0.437 |               7.5 |              19.2 |               29.5 |          24.7 |          26.9 |         28.5 |           19.9 |\n",
      "|          10180|Armidale Regional|          15,535 |                  43 |       909,014,851 | 48,837 | 58,514 |  5.74 |  1.88 |  0.33 |  0.11 |          0.477 |               7.0 |              19.5 |               30.7 |          29.4 |          26.6 |         24.2 |           19.7 |\n",
      "|          10250|          Ballina|          26,901 |                  48 |     1,621,086,399 | 47,527 | 60,261 |  5.47 |  1.89 |  0.35 |  0.12 |          0.484 |               8.6 |              21.7 |               32.8 |          29.0 |          28.3 |         23.5 |           19.1 |\n",
      "|          10300|        Balranald|           1,316 |                  43 |        70,198,150 | 49,408 | 53,342 |  4.45 |  1.63 |  0.37 |  0.12 |          0.458 |               6.2 |              17.7 |               28.7 |          27.0 |          29.8 |         29.2 |           13.9 |\n",
      "|          10470|Bathurst Regional|          23,828 |                  43 |     1,533,676,431 | 55,986 | 64,364 |  4.54 |  1.77 |  0.39 |  0.15 |          0.431 |               6.1 |              17.2 |               27.6 |          23.6 |          25.3 |         27.2 |           23.9 |\n",
      "|          10500|          Bayside|         105,143 |                  38 |     7,060,158,434 | 55,000 | 67,148 |  4.48 |  1.84 |  0.41 |  0.18 |          0.443 |               6.6 |              18.7 |               29.7 |          23.7 |          26.2 |         25.8 |           24.3 |\n",
      "|          10550|      Bega Valley|          20,488 |                  51 |     1,058,249,151 | 43,532 | 51,652 |  5.89 |  1.86 |  0.31 |  0.09 |          0.485 |               6.4 |              19.1 |               30.6 |          32.8 |          28.6 |         23.4 |           15.2 |\n",
      "|          10600|        Bellingen|           7,150 |                  50 |       367,123,153 | 41,711 | 51,346 |  6.60 |  1.93 |  0.29 |  0.09 |          0.498 |               7.3 |              20.0 |               31.6 |          34.6 |          27.8 |         22.3 |           15.3 |\n",
      "|          10650|         Berrigan|           4,757 |                  49 |       238,065,902 | 44,099 | 50,045 |  5.60 |  1.82 |  0.33 |  0.09 |          0.495 |               6.1 |              18.3 |               29.7 |          32.5 |          28.6 |         24.4 |           14.5 |\n",
      "|          10750|        Blacktown|         215,560 |                  39 |    14,203,611,762 | 58,934 | 65,892 |  4.01 |  1.69 |  0.42 |  0.19 |          0.399 |               4.7 |              15.4 |               25.9 |          21.4 |          24.7 |         29.8 |           24.1 |\n",
      "|          10800|            Bland|           3,169 |                  46 |       187,925,222 | 48,934 | 59,301 |  5.52 |  1.98 |  0.36 |  0.09 |          0.540 |               8.5 |              21.1 |               33.0 |          28.3 |          27.3 |         22.7 |           21.8 |\n",
      "|          10850|          Blayney|           4,160 |                  47 |       260,898,868 | 54,218 | 62,716 |  5.39 |  1.82 |  0.34 |  0.11 |          0.485 |               7.8 |              19.2 |               30.1 |          26.6 |          24.0 |         26.1 |           23.3 |\n",
      "|          10900|   Blue Mountains|          45,492 |                  47 |     3,131,959,254 | 56,229 | 68,846 |  5.62 |  1.90 |  0.34 |  0.11 |          0.463 |               6.8 |              18.9 |               29.9 |          26.0 |          23.0 |         23.2 |           27.8 |\n",
      "|          10950|            Bogan|           1,528 |                  46 |        83,934,344 | 50,732 | 54,931 |  6.32 |  1.85 |  0.29 |  0.06 |          0.616 |               6.3 |              19.9 |               32.3 |          27.9 |          25.9 |         25.0 |           21.1 |\n",
      "|          11150|           Bourke|           1,268 |                  42 |        77,916,464 | 57,292 | 61,448 |  4.76 |  1.73 |  0.36 |  0.13 |          0.465 |               4.8 |              15.9 |               26.9 |          24.5 |          23.1 |         27.8 |           24.6 |\n",
      "|          11200|       Brewarrina|             579 |                  42 |        30,700,022 | 50,721 | 53,022 |  5.14 |  1.69 |  0.33 |  0.09 |          0.461 |               3.5 |              15.0 |               26.5 |          27.8 |          26.9 |         28.3 |           17.1 |\n",
      "|          11250|      Broken Hill|           8,459 |                  44 |       541,268,389 | 56,376 | 63,987 |  4.83 |  1.81 |  0.37 |  0.15 |          0.420 |               4.6 |              15.1 |               25.8 |          24.2 |          24.4 |         26.1 |           25.3 |\n",
      "|          11300|          Burwood|          24,620 |                  36 |     1,555,624,068 | 45,588 | 63,185 |  5.26 |  2.07 |  0.39 |  0.16 |          0.501 |               9.1 |              22.9 |               34.7 |          29.9 |          28.1 |         21.2 |           20.8 |\n",
      "+---------------+-----------------+-----------------+---------------------+-------------------+--------+--------+-------+-------+-------+-------+----------------+-------------------+-------------------+--------------------+---------------+---------------+--------------+----------------+\n",
      "only showing top 20 rows\n",
      "\n",
      "root\n",
      " |-- LGA: string (nullable = true)\n",
      " |-- LGA NAME: string (nullable = true)\n",
      " |-- Number of Earners: string (nullable = true)\n",
      " |-- Median age of earners: string (nullable = true)\n",
      " |-- Sum: string (nullable = true)\n",
      " |-- Median: string (nullable = true)\n",
      " |-- Mean: string (nullable = true)\n",
      " |-- P80/P20: string (nullable = true)\n",
      " |-- P80/P50: string (nullable = true)\n",
      " |-- P20/P50: string (nullable = true)\n",
      " |-- P10/P50: string (nullable = true)\n",
      " |-- Gini coefficient: string (nullable = true)\n",
      " |-- Income share:Top 1%: string (nullable = true)\n",
      " |-- Income share:Top 5%: string (nullable = true)\n",
      " |-- Income share:Top 10%: string (nullable = true)\n",
      " |-- Lowest Quartile: string (nullable = true)\n",
      " |-- Second Quartile: string (nullable = true)\n",
      " |-- Third Quartile: string (nullable = true)\n",
      " |-- Highest Quartile: string (nullable = true)\n",
      "\n"
     ]
    }
   ],
   "source": [
    "# Define the path to the CSV file in DBFS\n",
    "file_path = \"../Resources/Income_by_geography.csv\"  \n",
    "\n",
    "# Load the CSV file into a DataFrame\n",
    "Income_df = spark.read.csv(file_path, header=True, inferSchema=True)\n",
    "\n",
    "Income_df.show()\n",
    "\n",
    "Income_df.printSchema()"
   ]
  },
  {
   "cell_type": "code",
   "execution_count": 7,
   "metadata": {},
   "outputs": [],
   "source": [
    "#Filter dataset for specific columns\n",
    "Filtered_Income_df=Income_df.select(\"LGA\", \"LGA NAME\", \"Number of Earners\", \"Median age of earners\", \"Mean\")"
   ]
  },
  {
   "cell_type": "code",
   "execution_count": 8,
   "metadata": {},
   "outputs": [
    {
     "name": "stdout",
     "output_type": "stream",
     "text": [
      "+---------------+---------------------+-----------------+---------------------+-----------+\n",
      "|       LGA code|Local Government Area|Number of Earners|Median Age of Earners|Mean Income|\n",
      "+---------------+---------------------+-----------------+---------------------+-----------+\n",
      "|     Australia |                 NULL|      14,760,008 |                  42 |    70,522 |\n",
      "|New South Wales|                 NULL|       4,603,736 |                  42 |    74,094 |\n",
      "|          10050|               Albury|          31,816 |                  43 |    62,395 |\n",
      "|          10180|    Armidale Regional|          15,535 |                  43 |    58,514 |\n",
      "|          10250|              Ballina|          26,901 |                  48 |    60,261 |\n",
      "|          10300|            Balranald|           1,316 |                  43 |    53,342 |\n",
      "|          10470|    Bathurst Regional|          23,828 |                  43 |    64,364 |\n",
      "|          10500|              Bayside|         105,143 |                  38 |    67,148 |\n",
      "|          10550|          Bega Valley|          20,488 |                  51 |    51,652 |\n",
      "|          10600|            Bellingen|           7,150 |                  50 |    51,346 |\n",
      "|          10650|             Berrigan|           4,757 |                  49 |    50,045 |\n",
      "|          10750|            Blacktown|         215,560 |                  39 |    65,892 |\n",
      "|          10800|                Bland|           3,169 |                  46 |    59,301 |\n",
      "|          10850|              Blayney|           4,160 |                  47 |    62,716 |\n",
      "|          10900|       Blue Mountains|          45,492 |                  47 |    68,846 |\n",
      "|          10950|                Bogan|           1,528 |                  46 |    54,931 |\n",
      "|          11150|               Bourke|           1,268 |                  42 |    61,448 |\n",
      "|          11200|           Brewarrina|             579 |                  42 |    53,022 |\n",
      "|          11250|          Broken Hill|           8,459 |                  44 |    63,987 |\n",
      "|          11300|              Burwood|          24,620 |                  36 |    63,185 |\n",
      "+---------------+---------------------+-----------------+---------------------+-----------+\n",
      "only showing top 20 rows\n",
      "\n"
     ]
    }
   ],
   "source": [
    "# Dictionary of old and new column names\n",
    "rename_dict = {\n",
    "    \"LGA\": \"LGA code\",\n",
    "    \"LGA NAME\": \"Local Government Area\",\n",
    "    \"Median age of earners\": \"Median Age of Earners\",\n",
    "    \"Mean\": \"Mean Income\"\n",
    "}\n",
    "\n",
    "# Initialize Renamed_Income_df with the original DataFrame\n",
    "Renamed_Income_df = Filtered_Income_df\n",
    "\n",
    "# Apply renaming using a loop\n",
    "for old_name, new_name in rename_dict.items():\n",
    "    Renamed_Income_df = Renamed_Income_df.withColumnRenamed(old_name, new_name)\n",
    "\n",
    "# Show the final DataFrame with all renamed columns\n",
    "Renamed_Income_df.show()\n"
   ]
  },
  {
   "cell_type": "code",
   "execution_count": 9,
   "metadata": {},
   "outputs": [
    {
     "name": "stdout",
     "output_type": "stream",
     "text": [
      "root\n",
      " |-- LGA code: string (nullable = true)\n",
      " |-- Local Government Area: string (nullable = true)\n",
      " |-- Number of Earners: string (nullable = true)\n",
      " |-- Median Age of Earners: string (nullable = true)\n",
      " |-- Mean Income: string (nullable = true)\n",
      "\n"
     ]
    }
   ],
   "source": [
    "Renamed_Income_df = Renamed_Income_df.dropna(subset=['Local Government Area'])\n",
    "Renamed_Income_df.printSchema()\n"
   ]
  },
  {
   "cell_type": "code",
   "execution_count": 10,
   "metadata": {},
   "outputs": [
    {
     "name": "stdout",
     "output_type": "stream",
     "text": [
      "+--------+---------------------+-----------------+---------------------+-----------+\n",
      "|LGA code|Local Government Area|Number of Earners|Median Age of Earners|Mean Income|\n",
      "+--------+---------------------+-----------------+---------------------+-----------+\n",
      "|   10050|               Albury|            31816|                  43 |      62395|\n",
      "|   10180|    Armidale Regional|            15535|                  43 |      58514|\n",
      "|   10250|              Ballina|            26901|                  48 |      60261|\n",
      "|   10300|            Balranald|             1316|                  43 |      53342|\n",
      "|   10470|    Bathurst Regional|            23828|                  43 |      64364|\n",
      "|   10500|              Bayside|           105143|                  38 |      67148|\n",
      "|   10550|          Bega Valley|            20488|                  51 |      51652|\n",
      "|   10600|            Bellingen|             7150|                  50 |      51346|\n",
      "|   10650|             Berrigan|             4757|                  49 |      50045|\n",
      "|   10750|            Blacktown|           215560|                  39 |      65892|\n",
      "|   10800|                Bland|             3169|                  46 |      59301|\n",
      "|   10850|              Blayney|             4160|                  47 |      62716|\n",
      "|   10900|       Blue Mountains|            45492|                  47 |      68846|\n",
      "|   10950|                Bogan|             1528|                  46 |      54931|\n",
      "|   11150|               Bourke|             1268|                  42 |      61448|\n",
      "|   11200|           Brewarrina|              579|                  42 |      53022|\n",
      "|   11250|          Broken Hill|             8459|                  44 |      63987|\n",
      "|   11300|              Burwood|            24620|                  36 |      63185|\n",
      "|   11350|                Byron|            23058|                  44 |      63717|\n",
      "|   11400|              Cabonne|             7737|                  46 |      63411|\n",
      "+--------+---------------------+-----------------+---------------------+-----------+\n",
      "only showing top 20 rows\n",
      "\n"
     ]
    }
   ],
   "source": [
    "# Clean the data: Remove non-numeric characters (commas, spaces) before casting\n",
    "cleaned_Income_df = Renamed_Income_df.withColumn(\"Number of Earners\", regexp_replace(\"Number of Earners\", \"[^0-9]\", \"\")) \\\n",
    "                                     .withColumn(\"Mean Income\", regexp_replace(\"Mean Income\", \"[^0-9]\", \"\"))\n",
    "\n",
    "# Cast cleaned columns to integer\n",
    "cleaned_Income_df = cleaned_Income_df.withColumn(\"Number of Earners\", col(\"Number of Earners\").cast(\"int\")) \\\n",
    "                                     .withColumn(\"Mean Income\", col(\"Mean Income\").cast(\"int\"))\n",
    "\n",
    "# Also cast 'LGA code' to integer, but ensure it only processes numeric values\n",
    "cleaned_Income_df = cleaned_Income_df.withColumn(\"LGA code\", col(\"LGA code\").cast(\"int\"))\n",
    "\n",
    "# Show the resulting DataFrame\n",
    "cleaned_Income_df.show()\n"
   ]
  },
  {
   "cell_type": "code",
   "execution_count": 11,
   "metadata": {},
   "outputs": [],
   "source": [
    "Renamed_Income_df = cleaned_Income_df"
   ]
  },
  {
   "cell_type": "markdown",
   "metadata": {},
   "source": [
    "### Merging cleaned Population and Income datsets together"
   ]
  },
  {
   "cell_type": "code",
   "execution_count": 12,
   "metadata": {},
   "outputs": [
    {
     "name": "stdout",
     "output_type": "stream",
     "text": [
      "+--------+---------------------+------------------+------------------+------------------+-----------------+---------------------+-----------+\n",
      "|LGA code|Local Government Area|Population in 2021|Population in 2022|Population in 2023|Number of Earners|Median Age of Earners|Mean Income|\n",
      "+--------+---------------------+------------------+------------------+------------------+-----------------+---------------------+-----------+\n",
      "|   10050|               Albury|             56067|             56665|             57517|            31816|                  43 |      62395|\n",
      "|   10250|              Ballina|             46196|             46849|             47279|            26901|                  48 |      60261|\n",
      "|   10300|            Balranald|              2208|              2210|              2202|             1316|                  43 |      53342|\n",
      "|   10550|          Bega Valley|             35770|             35985|             36279|            20488|                  51 |      51652|\n",
      "|   10600|            Bellingen|             13203|             13261|             13231|             7150|                  50 |      51346|\n",
      "|   10650|             Berrigan|              8615|              8652|              8643|             4757|                  49 |      50045|\n",
      "|   10750|            Blacktown|            399925|            410944|            426202|           215560|                  39 |      65892|\n",
      "|   10800|                Bland|              5544|              5493|              5464|             3169|                  46 |      59301|\n",
      "|   10850|              Blayney|              7511|              7590|              7644|             4160|                  47 |      62716|\n",
      "|   10900|       Blue Mountains|             78372|             77913|             78446|            45492|                  47 |      68846|\n",
      "|   10950|                Bogan|              2480|              2454|              2420|             1528|                  46 |      54931|\n",
      "|   11150|               Bourke|              2416|              2348|              2365|             1268|                  42 |      61448|\n",
      "|   11200|           Brewarrina|              1487|              1431|              1411|              579|                  42 |      53022|\n",
      "|   11250|          Broken Hill|             17662|             17567|             17624|             8459|                  44 |      63987|\n",
      "|   11300|              Burwood|             40440|             40850|             42498|            24620|                  36 |      63185|\n",
      "|   11350|                Byron|             36106|             36514|             37126|            23058|                  44 |      63717|\n",
      "|   11400|              Cabonne|             13767|             13843|             13880|             7737|                  46 |      63411|\n",
      "|   11450|               Camden|            120083|            127808|            134811|            66890|                  38 |      72912|\n",
      "|   11520|           Canada Bay|             89685|             89236|             91385|            56351|                  42 |      90610|\n",
      "|   11570| Canterbury-Bankstown|            372459|            372119|            379829|           187608|                  40 |      58857|\n",
      "+--------+---------------------+------------------+------------------+------------------+-----------------+---------------------+-----------+\n",
      "only showing top 20 rows\n",
      "\n"
     ]
    }
   ],
   "source": [
    "# Alias the DataFrames before joining\n",
    "pop_alias = filterd_pop_df.alias(\"pop\")\n",
    "income_alias = Renamed_Income_df.alias(\"income\")\n",
    "\n",
    "# Join the aliased DataFrames\n",
    "Pop_Inc_df = pop_alias.join(income_alias, \n",
    "                             (pop_alias['LGA code'] == income_alias['LGA code']) & \n",
    "                             (pop_alias['Local Government Area'] == income_alias['Local Government Area']), \n",
    "                             'inner')\n",
    "\n",
    "# Select only the columns you want to show in the merged DataFrame\n",
    "Pop_Inc_df = Pop_Inc_df.select(\"pop.LGA code\", \"pop.Local Government Area\", \"Population in 2021\", \n",
    "                                \"Population in 2022\", \"Population in 2023\", \n",
    "                                \"Number of Earners\", \"Median Age of Earners\", \"Mean Income\")\n",
    "\n",
    "# Show the merged DataFrame\n",
    "Pop_Inc_df.show()"
   ]
  },
  {
   "cell_type": "markdown",
   "metadata": {},
   "source": [
    "### Australian Postcode datset with Lat & Long"
   ]
  },
  {
   "cell_type": "code",
   "execution_count": 13,
   "metadata": {},
   "outputs": [
    {
     "name": "stderr",
     "output_type": "stream",
     "text": [
      "24/06/17 09:41:08 WARN SparkStringUtils: Truncated the string representation of a plan since it was too large. This behavior can be adjusted by setting 'spark.sql.debug.maxToStringFields'.\n"
     ]
    },
    {
     "name": "stdout",
     "output_type": "stream",
     "text": [
      "+-----+--------+--------------------+-----+-----------+------------+--------------------+-----------------+--------------------+-----+--------------+----+--------------------+------+-----------+------------+-------------+-------------+-------------+-------------+-------------+-------------+-------------+-------------+-------+-------+-------+------------+--------+--------+----+----------------+----------+--------+------------------+--------------------+-------+----------+------------------+--------+-----------+\n",
      "|   id|postcode|            locality|state|       long|         lat|                  dc|             type|              status|  sa3|       sa3name| sa4|             sa4name|region|Lat_precise|Long_precise|SA1_CODE_2021|SA1_NAME_2021|SA2_CODE_2021|SA2_NAME_2021|SA3_CODE_2021|SA3_NAME_2021|SA4_CODE_2021|SA4_NAME_2021|RA_2011|RA_2016|RA_2021|RA_2021_NAME|MMM_2015|MMM_2019| ced|        altitude|chargezone|phn_code|          phn_name|           lgaregion|lgacode|electorate|  electoraterating|sed_code|   sed_name|\n",
      "+-----+--------+--------------------+-----+-----------+------------+--------------------+-----------------+--------------------+-----+--------------+----+--------------------+------+-----------+------------+-------------+-------------+-------------+-------------+-------------+-------------+-------------+-------------+-------+-------+-------+------------+--------+--------+----+----------------+----------+--------+------------------+--------------------+-------+----------+------------------+--------+-----------+\n",
      "|  230|     200|                 ANU|  ACT|    149.119|    -35.2777|                NULL|             NULL|  Updated 3-Dec-2022| NULL|          NULL|NULL|                NULL|    R1|   -35.2777|     149.119|         NULL|         NULL|         NULL|         NULL|         NULL|         NULL|         NULL|         NULL|      1|      1|   NULL|        NULL|       1|       1|NULL|            NULL|        N2|    NULL|              NULL|  Unincorporated ACT|  89399|    Durack|              NULL|    NULL|       NULL|\n",
      "|21820|     200|Australian Nation...|  ACT|   149.1189|    -35.2777|                NULL|             NULL|  Updated 3-Dec-2022| NULL|          NULL|NULL|                NULL|    R1|-35.2776999|  149.118527|         NULL|         NULL|         NULL|         NULL|         NULL|         NULL|         NULL|         NULL|      1|      1|   NULL|        NULL|       1|       1|NULL|            NULL|        N2|    NULL|              NULL|  Unincorporated ACT|  89399|    Durack|              NULL|    NULL|       NULL|\n",
      "|  232|     800|              DARWIN|   NT|  130.83668|  -12.458684|                NULL|             NULL|  Updated 3-Dec-2022|70101|   Darwin City| 701|              Darwin|    R1|-12.3932794| 130.7766611|  70101100231|  Darwin City|    701011002|  Darwin City|         NULL|         NULL|         NULL|         NULL|      3|      3|   NULL|        NULL|       2|       2|NULL|            NULL|       NT1|  PHN701|Northern Territory|Darwin Waterfront...|  71150|   Solomon|Inner Metropolitan|   70022|Port Darwin|\n",
      "|24049|     800|         DARWIN CITY|   NT|  130.83668|  -12.458684|                NULL|             NULL|  Updated 3-Dec-2022|70101|   Darwin City| 701|              Darwin|    R1|-12.3932794| 130.7766611|  70101100231|  Darwin City|    701011002|  Darwin City|         NULL|         NULL|         NULL|         NULL|      3|      3|   NULL|        NULL|       2|       2|NULL|            NULL|       NT1|  PHN701|Northern Territory|Darwin Waterfront...|  71150|   Solomon|Inner Metropolitan|   70022|Port Darwin|\n",
      "|  233|     801|              DARWIN|   NT|  130.83668|  -12.458684|                NULL|             NULL|  Updated 3-Dec-2022|70101|   Darwin City| 701|              Darwin|    R1|-12.4634403| 130.8456418|         NULL|         NULL|         NULL|         NULL|         NULL|         NULL|         NULL|         NULL|      3|      3|   NULL|        NULL|       2|       2|NULL|            NULL|       NT1|  PHN701|              NULL|              Darwin|  71000|  Lingiari|             Rural|    NULL|       NULL|\n",
      "|24055|     803|        WAGAIT BEACH|   NT|130.7459083|-12.43399126|                NULL|Post Office Boxes|Updated 17-Mar-20...|70205|     Katherine| 702|Northern Territor...|    R1|        0.0|         0.0|         NULL|         NULL|         NULL|         NULL|         NULL|         NULL|         NULL|         NULL|   NULL|   NULL|   NULL|        NULL|    NULL|    NULL|NULL|18.5299186706543|      NULL|    NULL|              NULL|                NULL|   NULL|      NULL|              NULL|    NULL|       NULL|\n",
      "|  234|     804|               PARAP|   NT| 130.873315|  -12.428017|                NULL|             NULL|  Updated 3-Dec-2022|70102|Darwin Suburbs| 701|              Darwin|    R1|-12.4324801| 130.8462536|         NULL|         NULL|         NULL|         NULL|         NULL|         NULL|         NULL|         NULL|      3|      3|   NULL|        NULL|       2|       2|NULL|            NULL|       NT1|  PHN701|              NULL|              Darwin|  71000|    Durack|              NULL|    NULL|       NULL|\n",
      "|  235|     810|               ALAWA|   NT| 130.866242|  -12.381806|                NULL|             NULL|  Updated 3-Dec-2022|70102|Darwin Suburbs| 701|              Darwin|    R1|     -12.38|     130.873|  70102102904|      Wanguri|    701021029|      Wanguri|         NULL|         NULL|         NULL|         NULL|      3|      3|   NULL|        NULL|       2|       2|NULL|9.22142887115479|       NT1|  PHN701|Northern Territory|              Darwin|  71000|   Solomon|Inner Metropolitan|   70025|    Wanguri|\n",
      "|  236|     810|             BRINKIN|   NT| 130.866242|  -12.381806|                NULL|             NULL|  Updated 3-Dec-2022|70102|Darwin Suburbs| 701|              Darwin|    R1|     -12.37|     130.867|  70102102904|      Wanguri|    701021029|      Wanguri|         NULL|         NULL|         NULL|         NULL|      3|      3|   NULL|        NULL|       2|       2|NULL|9.22142887115479|       NT1|  PHN701|Northern Territory|              Darwin|  71000|   Solomon|Inner Metropolitan|   70025|    Wanguri|\n",
      "|  237|     810|           CASUARINA|   NT| 130.866242|  -12.381806|                NULL|             NULL|  Updated 3-Dec-2022|70102|Darwin Suburbs| 701|              Darwin|    R1| -12.373333|  130.881667|  70102102904|      Wanguri|    701021029|      Wanguri|         NULL|         NULL|         NULL|         NULL|      3|      3|   NULL|        NULL|       2|       2|NULL|9.22142887115479|       NT1|  PHN701|Northern Territory|              Darwin|  71000|   Solomon|Inner Metropolitan|   70025|    Wanguri|\n",
      "|19972|     810|       COCONUT GROVE|   NT|130.8502369|-12.39614166|Northern Territor...|    Delivery Area|  Updated 3-Dec-2022|70102|Darwin Suburbs| 701|              Darwin|    R1|   -12.3989|     130.852|  70102102904|      Wanguri|    701021029|      Wanguri|         NULL|         NULL|         NULL|         NULL|      3|      3|   NULL|        NULL|       2|       2|NULL|9.22142887115479|       NT1|  PHN701|Northern Territory|              Darwin|  71000|   Solomon|Inner Metropolitan|   70025|    Wanguri|\n",
      "|  239|     810|             JINGILI|   NT| 130.866242|  -12.381806|                NULL|             NULL|  Updated 3-Dec-2022|70102|Darwin Suburbs| 701|              Darwin|    R1| -12.386667|  130.875278|  70102102904|      Wanguri|    701021029|      Wanguri|         NULL|         NULL|         NULL|         NULL|      3|      3|   NULL|        NULL|       2|       2|NULL|9.22142887115479|       NT1|  PHN701|Northern Territory|              Darwin|  71000|   Solomon|Inner Metropolitan|   70025|    Wanguri|\n",
      "|  240|     810|           LEE POINT|   NT| 130.866242|  -12.381806|                NULL|             NULL|  Updated 3-Dec-2022|70102|Darwin Suburbs| 701|              Darwin|    R1| -12.339444|  130.893056|  70102102904|      Wanguri|    701021029|      Wanguri|         NULL|         NULL|         NULL|         NULL|      3|      3|   NULL|        NULL|       2|       2|NULL|9.22142887115479|       NT1|  PHN701|Northern Territory|              Darwin|  71000|   Solomon|Inner Metropolitan|   70025|    Wanguri|\n",
      "|19973|     810|               LYONS|   NT|130.8885151|-12.35911956|Northern Territor...|    Delivery Area|  Updated 3-Dec-2022|70102|Darwin Suburbs| 701|              Darwin|    R1|   -12.3603|     130.889|  70102102904|      Wanguri|    701021029|      Wanguri|         NULL|         NULL|         NULL|         NULL|      3|      3|   NULL|        NULL|       2|       2|NULL|9.22142887115479|       NT1|  PHN701|Northern Territory|              Darwin|  71000|   Solomon|Inner Metropolitan|   70025|    Wanguri|\n",
      "|  241|     810|             MILLNER|   NT| 130.866242|  -12.381806|                NULL|             NULL|  Updated 3-Dec-2022|70102|Darwin Suburbs| 701|              Darwin|    R1| -12.391111|  130.863208|  70102102904|      Wanguri|    701021029|      Wanguri|         NULL|         NULL|         NULL|         NULL|      3|      3|   NULL|        NULL|       2|       2|NULL|9.22142887115479|       NT1|  PHN701|Northern Territory|              Darwin|  71000|   Solomon|Inner Metropolitan|   70025|    Wanguri|\n",
      "|  242|     810|                MOIL|   NT| 130.866242|  -12.381806|                NULL|             NULL|  Updated 3-Dec-2022|70102|Darwin Suburbs| 701|              Darwin|    R1| -12.388889|  130.879167|  70102102904|      Wanguri|    701021029|      Wanguri|         NULL|         NULL|         NULL|         NULL|      3|      3|   NULL|        NULL|       2|       2|NULL|9.22142887115479|       NT1|  PHN701|Northern Territory|              Darwin|  71000|   Solomon|Inner Metropolitan|   70025|    Wanguri|\n",
      "|19974|     810|            MUIRHEAD|   NT|130.8959029|-12.35811947|Northern Territor...|    Delivery Area|  Updated 3-Dec-2022|70102|Darwin Suburbs| 701|              Darwin|    R1|   -12.3583|     130.896|  70102102904|      Wanguri|    701021029|      Wanguri|         NULL|         NULL|         NULL|         NULL|      3|      3|   NULL|        NULL|       2|       2|NULL|9.22142887115479|       NT1|  PHN701|Northern Territory|              Darwin|  71000|   Solomon|Inner Metropolitan|   70025|    Wanguri|\n",
      "|  243|     810|              NAKARA|   NT| 130.866242|  -12.381806|                NULL|             NULL|  Updated 3-Dec-2022|70102|Darwin Suburbs| 701|              Darwin|    R1| -12.369444|  130.878056|  70102102904|      Wanguri|    701021029|      Wanguri|         NULL|         NULL|         NULL|         NULL|      3|      3|   NULL|        NULL|       2|       2|NULL|9.22142887115479|       NT1|  PHN701|Northern Territory|              Darwin|  71000|   Solomon|Inner Metropolitan|   70025|    Wanguri|\n",
      "|  244|     810|          NIGHTCLIFF|   NT| 130.866242|  -12.381806|                NULL|             NULL|  Updated 3-Dec-2022|70102|Darwin Suburbs| 701|              Darwin|    R1|    -12.383|     130.849|  70102102904|      Wanguri|    701021029|      Wanguri|         NULL|         NULL|         NULL|         NULL|      3|      3|   NULL|        NULL|       2|       2|NULL|9.22142887115479|       NT1|  PHN701|Northern Territory|              Darwin|  71000|   Solomon|Inner Metropolitan|   70025|    Wanguri|\n",
      "|  245|     810|         RAPID CREEK|   NT| 130.866242|  -12.381806|                NULL|             NULL|  Updated 3-Dec-2022|70102|Darwin Suburbs| 701|              Darwin|    R1| -12.380833|  130.862222|  70102102904|      Wanguri|    701021029|      Wanguri|         NULL|         NULL|         NULL|         NULL|      3|      3|   NULL|        NULL|       2|       2|NULL|9.22142887115479|       NT1|  PHN701|Northern Territory|              Darwin|  71000|   Solomon|Inner Metropolitan|   70025|    Wanguri|\n",
      "+-----+--------+--------------------+-----+-----------+------------+--------------------+-----------------+--------------------+-----+--------------+----+--------------------+------+-----------+------------+-------------+-------------+-------------+-------------+-------------+-------------+-------------+-------------+-------+-------+-------+------------+--------+--------+----+----------------+----------+--------+------------------+--------------------+-------+----------+------------------+--------+-----------+\n",
      "only showing top 20 rows\n",
      "\n",
      "root\n",
      " |-- id: integer (nullable = true)\n",
      " |-- postcode: integer (nullable = true)\n",
      " |-- locality: string (nullable = true)\n",
      " |-- state: string (nullable = true)\n",
      " |-- long: double (nullable = true)\n",
      " |-- lat: double (nullable = true)\n",
      " |-- dc: string (nullable = true)\n",
      " |-- type: string (nullable = true)\n",
      " |-- status: string (nullable = true)\n",
      " |-- sa3: integer (nullable = true)\n",
      " |-- sa3name: string (nullable = true)\n",
      " |-- sa4: integer (nullable = true)\n",
      " |-- sa4name: string (nullable = true)\n",
      " |-- region: string (nullable = true)\n",
      " |-- Lat_precise: double (nullable = true)\n",
      " |-- Long_precise: double (nullable = true)\n",
      " |-- SA1_CODE_2021: long (nullable = true)\n",
      " |-- SA1_NAME_2021: string (nullable = true)\n",
      " |-- SA2_CODE_2021: integer (nullable = true)\n",
      " |-- SA2_NAME_2021: string (nullable = true)\n",
      " |-- SA3_CODE_2021: integer (nullable = true)\n",
      " |-- SA3_NAME_2021: string (nullable = true)\n",
      " |-- SA4_CODE_2021: integer (nullable = true)\n",
      " |-- SA4_NAME_2021: string (nullable = true)\n",
      " |-- RA_2011: integer (nullable = true)\n",
      " |-- RA_2016: integer (nullable = true)\n",
      " |-- RA_2021: integer (nullable = true)\n",
      " |-- RA_2021_NAME: string (nullable = true)\n",
      " |-- MMM_2015: integer (nullable = true)\n",
      " |-- MMM_2019: integer (nullable = true)\n",
      " |-- ced: string (nullable = true)\n",
      " |-- altitude: double (nullable = true)\n",
      " |-- chargezone: string (nullable = true)\n",
      " |-- phn_code: string (nullable = true)\n",
      " |-- phn_name: string (nullable = true)\n",
      " |-- lgaregion: string (nullable = true)\n",
      " |-- lgacode: integer (nullable = true)\n",
      " |-- electorate: string (nullable = true)\n",
      " |-- electoraterating: string (nullable = true)\n",
      " |-- sed_code: integer (nullable = true)\n",
      " |-- sed_name: string (nullable = true)\n",
      "\n"
     ]
    }
   ],
   "source": [
    "# Define the path to the CSV file in DBFS\n",
    "file_path = \"../Resources/australian_postcodes.csv\"  \n",
    "\n",
    "# Load the CSV file into a DataFrame\n",
    "Postcode_df = spark.read.csv(file_path, header=True, inferSchema=True)\n",
    "\n",
    "Postcode_df.show()\n",
    "\n",
    "Postcode_df.printSchema()"
   ]
  },
  {
   "cell_type": "code",
   "execution_count": 14,
   "metadata": {},
   "outputs": [],
   "source": [
    "#Filter dataset for specific columns\n",
    "Postcode_df = Postcode_df.select(\"postcode\", \"Lat_precise\", \"Long_precise\", \"lgaregion\", \"lgacode\")"
   ]
  },
  {
   "cell_type": "code",
   "execution_count": 15,
   "metadata": {},
   "outputs": [
    {
     "name": "stdout",
     "output_type": "stream",
     "text": [
      "+--------+-----------+------------+---------------------+--------+\n",
      "|Postcode|Lat_precise|Long_precise|Local Government Area|LGA code|\n",
      "+--------+-----------+------------+---------------------+--------+\n",
      "|     200|   -35.2777|     149.119|   Unincorporated ACT|   89399|\n",
      "|     200|-35.2776999|  149.118527|   Unincorporated ACT|   89399|\n",
      "|     800|-12.3932794| 130.7766611| Darwin Waterfront...|   71150|\n",
      "|     800|-12.3932794| 130.7766611| Darwin Waterfront...|   71150|\n",
      "|     801|-12.4634403| 130.8456418|               Darwin|   71000|\n",
      "|     803|        0.0|         0.0|                 NULL|    NULL|\n",
      "|     804|-12.4324801| 130.8462536|               Darwin|   71000|\n",
      "|     810|     -12.38|     130.873|               Darwin|   71000|\n",
      "|     810|     -12.37|     130.867|               Darwin|   71000|\n",
      "|     810| -12.373333|  130.881667|               Darwin|   71000|\n",
      "|     810|   -12.3989|     130.852|               Darwin|   71000|\n",
      "|     810| -12.386667|  130.875278|               Darwin|   71000|\n",
      "|     810| -12.339444|  130.893056|               Darwin|   71000|\n",
      "|     810|   -12.3603|     130.889|               Darwin|   71000|\n",
      "|     810| -12.391111|  130.863208|               Darwin|   71000|\n",
      "|     810| -12.388889|  130.879167|               Darwin|   71000|\n",
      "|     810|   -12.3583|     130.896|               Darwin|   71000|\n",
      "|     810| -12.369444|  130.878056|               Darwin|   71000|\n",
      "|     810|    -12.383|     130.849|               Darwin|   71000|\n",
      "|     810| -12.380833|  130.862222|               Darwin|   71000|\n",
      "+--------+-----------+------------+---------------------+--------+\n",
      "only showing top 20 rows\n",
      "\n"
     ]
    }
   ],
   "source": [
    "# Dictionary of old and new column names\n",
    "rename_dict = {\n",
    "    \"postcode\": \"Postcode\",\n",
    "    \"lgacode\": \"LGA code\",\n",
    "    \"lgaregion\": \"Local Government Area\",\n",
    "}\n",
    "\n",
    "# Initialize Renamed_Income_df with the original DataFrame\n",
    "Renamed_Postcode_df = Postcode_df\n",
    "\n",
    "# Apply renaming using a loop\n",
    "for old_name, new_name in rename_dict.items():\n",
    "    Renamed_Postcode_df = Renamed_Postcode_df.withColumnRenamed(old_name, new_name)\n",
    "\n",
    "# Show the final DataFrame with all renamed columns\n",
    "Renamed_Postcode_df.show()"
   ]
  },
  {
   "cell_type": "code",
   "execution_count": 16,
   "metadata": {},
   "outputs": [
    {
     "name": "stdout",
     "output_type": "stream",
     "text": [
      "+--------+-----------+------------+---------------------+--------+\n",
      "|Postcode|Lat_precise|Long_precise|Local Government Area|LGA code|\n",
      "+--------+-----------+------------+---------------------+--------+\n",
      "|     200|   -35.2777|     149.119|   Unincorporated ACT|   89399|\n",
      "|     200|-35.2776999|  149.118527|   Unincorporated ACT|   89399|\n",
      "|     800|-12.3932794| 130.7766611| Darwin Waterfront...|   71150|\n",
      "|     800|-12.3932794| 130.7766611| Darwin Waterfront...|   71150|\n",
      "|     801|-12.4634403| 130.8456418|               Darwin|   71000|\n",
      "|     804|-12.4324801| 130.8462536|               Darwin|   71000|\n",
      "|     810|     -12.38|     130.873|               Darwin|   71000|\n",
      "|     810|     -12.37|     130.867|               Darwin|   71000|\n",
      "|     810| -12.373333|  130.881667|               Darwin|   71000|\n",
      "|     810|   -12.3989|     130.852|               Darwin|   71000|\n",
      "|     810| -12.386667|  130.875278|               Darwin|   71000|\n",
      "|     810| -12.339444|  130.893056|               Darwin|   71000|\n",
      "|     810|   -12.3603|     130.889|               Darwin|   71000|\n",
      "|     810| -12.391111|  130.863208|               Darwin|   71000|\n",
      "|     810| -12.388889|  130.879167|               Darwin|   71000|\n",
      "|     810|   -12.3583|     130.896|               Darwin|   71000|\n",
      "|     810| -12.369444|  130.878056|               Darwin|   71000|\n",
      "|     810|    -12.383|     130.849|               Darwin|   71000|\n",
      "|     810| -12.380833|  130.862222|               Darwin|   71000|\n",
      "|     810| -12.363333|  130.880278|               Darwin|   71000|\n",
      "+--------+-----------+------------+---------------------+--------+\n",
      "only showing top 20 rows\n",
      "\n"
     ]
    }
   ],
   "source": [
    "Renamed_Postcode_df = Renamed_Postcode_df.dropna(subset=['Local Government Area'])\n",
    "Renamed_Postcode_df.show()"
   ]
  },
  {
   "cell_type": "markdown",
   "metadata": {},
   "source": [
    "### Merging Australian Postcode dataset with Polulation and Income dataset"
   ]
  },
  {
   "cell_type": "code",
   "execution_count": 17,
   "metadata": {},
   "outputs": [
    {
     "name": "stdout",
     "output_type": "stream",
     "text": [
      "+--------+--------+---------------------+------------------+------------------+------------------+-----------------+---------------------+-----------+-----------+------------+\n",
      "|Postcode|LGA code|Local Government Area|Population in 2021|Population in 2022|Population in 2023|Number of Earners|Median Age of Earners|Mean Income|Lat_precise|Long_precise|\n",
      "+--------+--------+---------------------+------------------+------------------+------------------+-----------------+---------------------+-----------+-----------+------------+\n",
      "|    3691|   10050|               Albury|             56067|             56665|             57517|            31816|                  43 |      62395|   -36.1241|     146.882|\n",
      "|    3691|   10050|               Albury|             56067|             56665|             57517|            31816|                  43 |      62395|-36.4916755| 147.0710248|\n",
      "|    3691|   10050|               Albury|             56067|             56665|             57517|            31816|                  43 |      62395|-35.9689949| 147.4036985|\n",
      "|    3691|   10050|               Albury|             56067|             56665|             57517|            31816|                  43 |      62395| -36.233333|  147.033333|\n",
      "|    3691|   10050|               Albury|             56067|             56665|             57517|            31816|                  43 |      62395|-36.0658326| 147.2208225|\n",
      "|    3691|   10050|               Albury|             56067|             56665|             57517|            31816|                  43 |      62395|-36.2667509| 146.9457191|\n",
      "|    3691|   10050|               Albury|             56067|             56665|             57517|            31816|                  43 |      62395|-36.5313566| 147.0479616|\n",
      "|    3691|   10050|               Albury|             56067|             56665|             57517|            31816|                  43 |      62395|-36.3087971| 146.8933207|\n",
      "|    3691|   10050|               Albury|             56067|             56665|             57517|            31816|                  43 |      62395|    -35.986|     147.619|\n",
      "|    3691|   10050|               Albury|             56067|             56665|             57517|            31816|                  43 |      62395|-36.5896586| 147.1003269|\n",
      "|    3691|   10050|               Albury|             56067|             56665|             57517|            31816|                  43 |      62395|-36.2836195| 147.6208862|\n",
      "|    3691|   10050|               Albury|             56067|             56665|             57517|            31816|                  43 |      62395|   -36.2374|     146.966|\n",
      "|    3691|   10050|               Albury|             56067|             56665|             57517|            31816|                  43 |      62395|-36.2330793| 146.8374363|\n",
      "|    3691|   10050|               Albury|             56067|             56665|             57517|            31816|                  43 |      62395|   -36.0951|     147.044|\n",
      "|    3691|   10050|               Albury|             56067|             56665|             57517|            31816|                  43 |      62395|-36.1385938|  146.952051|\n",
      "|    3691|   10050|               Albury|             56067|             56665|             57517|            31816|                  43 |      62395|-36.2732078|  147.019899|\n",
      "|    3691|   10050|               Albury|             56067|             56665|             57517|            31816|                  43 |      62395|-36.4268421| 147.0361627|\n",
      "|    3691|   10050|               Albury|             56067|             56665|             57517|            31816|                  43 |      62395|-36.3415784| 147.0076483|\n",
      "|    3691|   10050|               Albury|             56067|             56665|             57517|            31816|                  43 |      62395|   -36.5961|     146.999|\n",
      "|    3691|   10050|               Albury|             56067|             56665|             57517|            31816|                  43 |      62395|-36.5942273|  147.000254|\n",
      "+--------+--------+---------------------+------------------+------------------+------------------+-----------------+---------------------+-----------+-----------+------------+\n",
      "only showing top 20 rows\n",
      "\n",
      "root\n",
      " |-- Postcode: integer (nullable = true)\n",
      " |-- LGA code: integer (nullable = true)\n",
      " |-- Local Government Area: string (nullable = true)\n",
      " |-- Population in 2021: integer (nullable = true)\n",
      " |-- Population in 2022: integer (nullable = true)\n",
      " |-- Population in 2023: integer (nullable = true)\n",
      " |-- Number of Earners: integer (nullable = true)\n",
      " |-- Median Age of Earners: string (nullable = true)\n",
      " |-- Mean Income: integer (nullable = true)\n",
      " |-- Lat_precise: double (nullable = true)\n",
      " |-- Long_precise: double (nullable = true)\n",
      "\n"
     ]
    }
   ],
   "source": [
    "# Alias the DataFrames before joining\n",
    "pop_alias = Pop_Inc_df.alias(\"pop\")\n",
    "pc_alias = Renamed_Postcode_df.alias(\"pc\")\n",
    "\n",
    "# Join the aliased DataFrames on both 'LGA code' and 'Local Government Area'\n",
    "Pop_Inc_PC_df = pop_alias.join(pc_alias, \n",
    "                             (pop_alias['LGA code'] == pc_alias['LGA code']) & \n",
    "                             (pop_alias['Local Government Area'] == pc_alias['Local Government Area']), \n",
    "                             'inner')\n",
    "\n",
    "# Select only the columns you want to show in the merged DataFrame\n",
    "Pop_Inc_PC_df = Pop_Inc_PC_df.select(\"pc.Postcode\", \n",
    "                                     \"pop.LGA code\", \n",
    "                                     \"pop.Local Government Area\", \n",
    "                                     \"Population in 2021\", \n",
    "                                     \"Population in 2022\", \n",
    "                                     \"Population in 2023\", \n",
    "                                     \"Number of Earners\", \n",
    "                                     \"Median Age of Earners\", \n",
    "                                     \"Mean Income\", \n",
    "                                     \"pc.Lat_precise\", \n",
    "                                     \"pc.Long_precise\")\n",
    "\n",
    "# Show the merged DataFrame\n",
    "Pop_Inc_PC_df.show()\n",
    "Pop_Inc_PC_df.printSchema()\n"
   ]
  },
  {
   "cell_type": "markdown",
   "metadata": {},
   "source": [
    "### Vehicle Registration Dataset"
   ]
  },
  {
   "cell_type": "code",
   "execution_count": 18,
   "metadata": {},
   "outputs": [
    {
     "name": "stdout",
     "output_type": "stream",
     "text": [
      "+--------+-----+-----------+-------------------------------------+-------------------------------------+-------------------------------------+\n",
      "|Postcode|State|  Fuel Type| Registrations as at 31 January 2021 | Registrations as at 31 January 2022 | Registrations as at 31 January 2023 |\n",
      "+--------+-----+-----------+-------------------------------------+-------------------------------------+-------------------------------------+\n",
      "|     800|   NT|        ICE|                               6,780 |                               7,318 |                               7,089 |\n",
      "|     800|   NT|        BEV|                                   3 |                                   3 |                                  12 |\n",
      "|     800|   NT|      HFCEV|                                 -   |                                 -   |                                 -   |\n",
      "|     800|   NT|Hybrid/PHEV|                                 131 |                                 411 |                                 402 |\n",
      "|     810|   NT|        ICE|                              21,870 |                              22,092 |                              21,890 |\n",
      "|     810|   NT|        BEV|                                   6 |                                  16 |                                  22 |\n",
      "|     810|   NT|      HFCEV|                                 -   |                                 -   |                                 -   |\n",
      "|     810|   NT|Hybrid/PHEV|                                 288 |                                 375 |                                 467 |\n",
      "|     812|   NT|        ICE|                              11,925 |                              11,845 |                              11,742 |\n",
      "|     812|   NT|        BEV|                                   3 |                                   5 |                                  14 |\n",
      "|     812|   NT|      HFCEV|                                 -   |                                 -   |                                 -   |\n",
      "|     812|   NT|Hybrid/PHEV|                                 125 |                                 161 |                                 219 |\n",
      "|     820|   NT|        ICE|                              19,921 |                              19,804 |                              20,445 |\n",
      "|     820|   NT|        BEV|                                  11 |                                  18 |                                  45 |\n",
      "|     820|   NT|      HFCEV|                                 -   |                                 -   |                                 -   |\n",
      "|     820|   NT|Hybrid/PHEV|                                 267 |                                 358 |                                 723 |\n",
      "|     822|   NT|        ICE|                               6,408 |                               6,262 |                               6,408 |\n",
      "|     822|   NT|        BEV|                                 -   |                                   3 |                                   3 |\n",
      "|     822|   NT|      HFCEV|                                 -   |                                 -   |                                 -   |\n",
      "|     822|   NT|Hybrid/PHEV|                                  24 |                                  37 |                                  41 |\n",
      "+--------+-----+-----------+-------------------------------------+-------------------------------------+-------------------------------------+\n",
      "only showing top 20 rows\n",
      "\n",
      "root\n",
      " |-- Postcode: integer (nullable = true)\n",
      " |-- State: string (nullable = true)\n",
      " |-- Fuel Type: string (nullable = true)\n",
      " |--  Registrations as at 31 January 2021 : string (nullable = true)\n",
      " |--  Registrations as at 31 January 2022 : string (nullable = true)\n",
      " |--  Registrations as at 31 January 2023 : string (nullable = true)\n",
      "\n"
     ]
    }
   ],
   "source": [
    "# Define the path to the CSV file in DBFS\n",
    "file_path = \"../Resources/Postcode_registration.csv\"  \n",
    "\n",
    "# Load the CSV file into a DataFrame\n",
    "EV_df = spark.read.csv(file_path, header=True, inferSchema=True)\n",
    "\n",
    "EV_df.show()\n",
    "\n",
    "EV_df.printSchema()"
   ]
  },
  {
   "cell_type": "code",
   "execution_count": 19,
   "metadata": {},
   "outputs": [
    {
     "name": "stdout",
     "output_type": "stream",
     "text": [
      "+--------+-----+-----------+------------------+------------------+------------------+\n",
      "|Postcode|State|  Fuel Type|Registrations_2021|Registrations_2022|Registrations_2023|\n",
      "+--------+-----+-----------+------------------+------------------+------------------+\n",
      "|     800|   NT|        ICE|              NULL|              NULL|              NULL|\n",
      "|     800|   NT|        BEV|                 3|                 3|                12|\n",
      "|     800|   NT|      HFCEV|              NULL|              NULL|              NULL|\n",
      "|     800|   NT|Hybrid/PHEV|               131|               411|               402|\n",
      "|     810|   NT|        ICE|              NULL|              NULL|              NULL|\n",
      "|     810|   NT|        BEV|                 6|                16|                22|\n",
      "|     810|   NT|      HFCEV|              NULL|              NULL|              NULL|\n",
      "|     810|   NT|Hybrid/PHEV|               288|               375|               467|\n",
      "|     812|   NT|        ICE|              NULL|              NULL|              NULL|\n",
      "|     812|   NT|        BEV|                 3|                 5|                14|\n",
      "|     812|   NT|      HFCEV|              NULL|              NULL|              NULL|\n",
      "|     812|   NT|Hybrid/PHEV|               125|               161|               219|\n",
      "|     820|   NT|        ICE|              NULL|              NULL|              NULL|\n",
      "|     820|   NT|        BEV|                11|                18|                45|\n",
      "|     820|   NT|      HFCEV|              NULL|              NULL|              NULL|\n",
      "|     820|   NT|Hybrid/PHEV|               267|               358|               723|\n",
      "|     822|   NT|        ICE|              NULL|              NULL|              NULL|\n",
      "|     822|   NT|        BEV|              NULL|                 3|                 3|\n",
      "|     822|   NT|      HFCEV|              NULL|              NULL|              NULL|\n",
      "|     822|   NT|Hybrid/PHEV|                24|                37|                41|\n",
      "+--------+-----+-----------+------------------+------------------+------------------+\n",
      "only showing top 20 rows\n",
      "\n"
     ]
    }
   ],
   "source": [
    "# Rename columns with special characters\n",
    "EV_df = EV_df.withColumnRenamed(\" Registrations as at 31 January 2021 \", \"Registrations_2021\") \\\n",
    "                               .withColumnRenamed(\" Registrations as at 31 January 2022 \", \"Registrations_2022\") \\\n",
    "                               .withColumnRenamed(\" Registrations as at 31 January 2023 \", \"Registrations_2023\")\n",
    "\n",
    "# Convert columns to integers\n",
    "EV_df = EV_df.withColumn(\"Registrations_2021\", \n",
    "                                           col(\"Registrations_2021\").cast(\"int\")) \\\n",
    "                               .withColumn(\"Registrations_2022\", \n",
    "                                           col(\"Registrations_2022\").cast(\"int\")) \\\n",
    "                               .withColumn(\"Registrations_2023\", \n",
    "                                           col(\"Registrations_2023\").cast(\"int\"))\n",
    "\n",
    "# Show the DataFrame\n",
    "EV_df.show()"
   ]
  },
  {
   "cell_type": "markdown",
   "metadata": {},
   "source": [
    "### Merging Vehicle registration dataset with Polulation-Income-Postcode dataset"
   ]
  },
  {
   "cell_type": "code",
   "execution_count": 20,
   "metadata": {},
   "outputs": [
    {
     "name": "stdout",
     "output_type": "stream",
     "text": [
      "+--------+--------+---------------------+------------------+------------------+------------------+-----------------+---------------------+-----------+-----------+------------+-----+-----------+------------------+------------------+------------------+\n",
      "|Postcode|LGA code|Local Government Area|Population in 2021|Population in 2022|Population in 2023|Number of Earners|Median Age of Earners|Mean Income|Lat_precise|Long_precise|State|  Fuel Type|Registrations_2021|Registrations_2022|Registrations_2023|\n",
      "+--------+--------+---------------------+------------------+------------------+------------------+-----------------+---------------------+-----------+-----------+------------+-----+-----------+------------------+------------------+------------------+\n",
      "|    3691|   10050|               Albury|             56067|             56665|             57517|            31816|                  43 |      62395|   -36.1241|     146.882|  VIC|Hybrid/PHEV|                44|                73|               106|\n",
      "|    3691|   10050|               Albury|             56067|             56665|             57517|            31816|                  43 |      62395|   -36.1241|     146.882|  VIC|      HFCEV|              NULL|              NULL|              NULL|\n",
      "|    3691|   10050|               Albury|             56067|             56665|             57517|            31816|                  43 |      62395|   -36.1241|     146.882|  VIC|        BEV|                 6|                 8|                22|\n",
      "|    3691|   10050|               Albury|             56067|             56665|             57517|            31816|                  43 |      62395|   -36.1241|     146.882|  VIC|        ICE|              NULL|              NULL|              NULL|\n",
      "|    3691|   10050|               Albury|             56067|             56665|             57517|            31816|                  43 |      62395|-36.4916755| 147.0710248|  VIC|Hybrid/PHEV|                44|                73|               106|\n",
      "|    3691|   10050|               Albury|             56067|             56665|             57517|            31816|                  43 |      62395|-36.4916755| 147.0710248|  VIC|      HFCEV|              NULL|              NULL|              NULL|\n",
      "|    3691|   10050|               Albury|             56067|             56665|             57517|            31816|                  43 |      62395|-36.4916755| 147.0710248|  VIC|        BEV|                 6|                 8|                22|\n",
      "|    3691|   10050|               Albury|             56067|             56665|             57517|            31816|                  43 |      62395|-36.4916755| 147.0710248|  VIC|        ICE|              NULL|              NULL|              NULL|\n",
      "|    3691|   10050|               Albury|             56067|             56665|             57517|            31816|                  43 |      62395|-35.9689949| 147.4036985|  VIC|Hybrid/PHEV|                44|                73|               106|\n",
      "|    3691|   10050|               Albury|             56067|             56665|             57517|            31816|                  43 |      62395|-35.9689949| 147.4036985|  VIC|      HFCEV|              NULL|              NULL|              NULL|\n",
      "|    3691|   10050|               Albury|             56067|             56665|             57517|            31816|                  43 |      62395|-35.9689949| 147.4036985|  VIC|        BEV|                 6|                 8|                22|\n",
      "|    3691|   10050|               Albury|             56067|             56665|             57517|            31816|                  43 |      62395|-35.9689949| 147.4036985|  VIC|        ICE|              NULL|              NULL|              NULL|\n",
      "|    3691|   10050|               Albury|             56067|             56665|             57517|            31816|                  43 |      62395| -36.233333|  147.033333|  VIC|Hybrid/PHEV|                44|                73|               106|\n",
      "|    3691|   10050|               Albury|             56067|             56665|             57517|            31816|                  43 |      62395| -36.233333|  147.033333|  VIC|      HFCEV|              NULL|              NULL|              NULL|\n",
      "|    3691|   10050|               Albury|             56067|             56665|             57517|            31816|                  43 |      62395| -36.233333|  147.033333|  VIC|        BEV|                 6|                 8|                22|\n",
      "|    3691|   10050|               Albury|             56067|             56665|             57517|            31816|                  43 |      62395| -36.233333|  147.033333|  VIC|        ICE|              NULL|              NULL|              NULL|\n",
      "|    3691|   10050|               Albury|             56067|             56665|             57517|            31816|                  43 |      62395|-36.0658326| 147.2208225|  VIC|Hybrid/PHEV|                44|                73|               106|\n",
      "|    3691|   10050|               Albury|             56067|             56665|             57517|            31816|                  43 |      62395|-36.0658326| 147.2208225|  VIC|      HFCEV|              NULL|              NULL|              NULL|\n",
      "|    3691|   10050|               Albury|             56067|             56665|             57517|            31816|                  43 |      62395|-36.0658326| 147.2208225|  VIC|        BEV|                 6|                 8|                22|\n",
      "|    3691|   10050|               Albury|             56067|             56665|             57517|            31816|                  43 |      62395|-36.0658326| 147.2208225|  VIC|        ICE|              NULL|              NULL|              NULL|\n",
      "+--------+--------+---------------------+------------------+------------------+------------------+-----------------+---------------------+-----------+-----------+------------+-----+-----------+------------------+------------------+------------------+\n",
      "only showing top 20 rows\n",
      "\n"
     ]
    }
   ],
   "source": [
    "# Perform the join operation\n",
    "merged_df = Pop_Inc_PC_df.join(EV_df, on='Postcode', how='inner')\n",
    "\n",
    "# Show the resulting DataFrame\n",
    "merged_df.show()\n"
   ]
  },
  {
   "cell_type": "code",
   "execution_count": 21,
   "metadata": {},
   "outputs": [],
   "source": [
    "# Convert PySpark DataFrame to Pandas DataFrame\n",
    "merged_pd_df = merged_df.toPandas()"
   ]
  },
  {
   "cell_type": "markdown",
   "metadata": {},
   "source": [
    "### Saving the cleaned dataset to CSV"
   ]
  },
  {
   "cell_type": "code",
   "execution_count": 22,
   "metadata": {},
   "outputs": [],
   "source": [
    "# Write merged dataframe to CSV\n",
    "merged_pd_df.to_csv(\"../cleaned_data/Population_Income_Registration.csv\")"
   ]
  },
  {
   "cell_type": "code",
   "execution_count": null,
   "metadata": {},
   "outputs": [],
   "source": []
  },
  {
   "cell_type": "code",
   "execution_count": null,
   "metadata": {},
   "outputs": [],
   "source": []
  },
  {
   "cell_type": "code",
   "execution_count": null,
   "metadata": {},
   "outputs": [],
   "source": []
  }
 ],
 "metadata": {
  "kernelspec": {
   "display_name": ".venv",
   "language": "python",
   "name": "python3"
  },
  "language_info": {
   "codemirror_mode": {
    "name": "ipython",
    "version": 3
   },
   "file_extension": ".py",
   "mimetype": "text/x-python",
   "name": "python",
   "nbconvert_exporter": "python",
   "pygments_lexer": "ipython3",
   "version": "3.10.12"
  }
 },
 "nbformat": 4,
 "nbformat_minor": 2
}
